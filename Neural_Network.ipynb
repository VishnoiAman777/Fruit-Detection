{
  "cells": [
    {
      "cell_type": "code",
      "execution_count": 13,
      "metadata": {
        "id": "O_uANBmUb0yx"
      },
      "outputs": [],
      "source": [
        "import pandas as pd"
      ]
    },
    {
      "cell_type": "code",
      "execution_count": 14,
      "metadata": {
        "id": "tzfzc-pvb1i8"
      },
      "outputs": [],
      "source": [
        "import cv2 as cv\n",
        "import numpy as np\n",
        "from google.colab.patches import cv2_imshow\n",
        "import os\n",
        "import numpy as np\n"
      ]
    },
    {
      "cell_type": "code",
      "execution_count": null,
      "metadata": {
        "id": "DOIklQFyb9AH"
      },
      "outputs": [],
      "source": [
        "from google.colab import drive\n",
        "drive.mount('/content/drive/MyDrive/Content')"
      ]
    },
    {
      "cell_type": "code",
      "execution_count": null,
      "metadata": {
        "id": "iLEMyQFgb3HK"
      },
      "outputs": [],
      "source": [
        "!unzip drive/MyDrive/Content/Training.zip"
      ]
    },
    {
      "cell_type": "code",
      "execution_count": null,
      "metadata": {
        "id": "ZlYcWKcSb6YP"
      },
      "outputs": [],
      "source": [
        "!unzip drive/MyDrive/Content/Test.zip"
      ]
    },
    {
      "cell_type": "code",
      "execution_count": 32,
      "metadata": {
        "id": "49oF3wCFcDAY"
      },
      "outputs": [],
      "source": [
        "from skimage.feature import hog"
      ]
    },
    {
      "cell_type": "markdown",
      "source": [
        "Using HOG_Feature_Vector to extract the feature vector"
      ],
      "metadata": {
        "id": "sk_kBu7sY0jF"
      }
    },
    {
      "cell_type": "code",
      "execution_count": 30,
      "metadata": {
        "id": "M-JHNeOkkITg"
      },
      "outputs": [],
      "source": [
        "def hog_feature_vector(img):\n",
        "    return hog(img, orientations=9, pixels_per_cell=(15, 15), cells_per_block=(3, 3), \n",
        "        block_norm='L2-Hys',visualize=False, transform_sqrt=False, feature_vector=True,\n",
        "        multichannel=None,)"
      ]
    },
    {
      "cell_type": "code",
      "execution_count": 11,
      "metadata": {
        "id": "Q73wOlZvFvBj",
        "colab": {
          "base_uri": "https://localhost:8080/"
        },
        "outputId": "bc98280b-7b1d-4266-bf37-cc08e7b37e85"
      },
      "outputs": [
        {
          "output_type": "stream",
          "name": "stdout",
          "text": [
            "Ginger Root done\n",
            "Pear done\n",
            "Cucumber Ripe 2 done\n",
            "Dates done\n",
            "Onion White done\n",
            "Corn done\n",
            "Mulberry done\n",
            "Guava done\n",
            "Physalis with Husk done\n",
            "Grape Pink done\n",
            "Eggplant done\n",
            "Apple Red 3 done\n",
            "Chestnut done\n",
            "Potato Red Washed done\n",
            "Apple Granny Smith done\n",
            "Avocado ripe done\n",
            "Tomato not Ripened done\n",
            "Potato Sweet done\n",
            "Apple Red 1 done\n",
            "Apple Golden 3 done\n",
            "Fig done\n",
            "Potato White done\n",
            "Tomato 1 done\n",
            "Watermelon done\n",
            "Kumquats done\n",
            "Kiwi done\n",
            "Papaya done\n",
            "Mango done\n",
            "Tomato 3 done\n",
            "Tomato 2 done\n",
            "Apple Crimson Snow done\n",
            "Nut Forest done\n",
            "Nectarine done\n",
            "Pepper Red done\n",
            "Pear Red done\n",
            "Redcurrant done\n",
            "Pepper Orange done\n",
            "Limes done\n",
            "Pear Forelle done\n",
            "Cherry Wax Yellow done\n",
            "Quince done\n",
            "Kohlrabi done\n",
            "Grapefruit White done\n",
            "Cherry Wax Red done\n",
            "Walnut done\n",
            "Salak done\n",
            "Apple Braeburn done\n",
            "Apple Red Delicious done\n",
            "Cherry Wax Black done\n",
            "Pepino done\n",
            "Pear Williams done\n",
            "Strawberry Wedge done\n",
            "Lemon done\n",
            "Pineapple done\n",
            "Tomato 4 done\n",
            "Plum done\n",
            "Pineapple Mini done\n",
            "Tomato Heart done\n",
            "Cantaloupe 1 done\n",
            "Apricot done\n",
            "Grapefruit Pink done\n",
            "Strawberry done\n",
            "Pomelo Sweetie done\n",
            "Apple Pink Lady done\n",
            "Tomato Yellow done\n",
            "Orange done\n",
            "Maracuja done\n",
            "Mango Red done\n",
            "Tomato Cherry Red done\n",
            "Onion Red done\n",
            "Cantaloupe 2 done\n",
            "Pepper Green done\n",
            "Granadilla done\n",
            "Grape White 3 done\n",
            "Nectarine Flat done\n",
            "Peach done\n",
            "Melon Piel de Sapo done\n",
            "Huckleberry done\n",
            "Cauliflower done\n",
            "Banana Red done\n",
            "Cherry 1 done\n",
            "Grape Blue done\n",
            "Pepper Yellow done\n",
            "Mandarine done\n",
            "Grape White 2 done\n",
            "Plum 2 done\n",
            "Beetroot done\n",
            "Apple Red Yellow 1 done\n",
            "Grape White done\n",
            "Corn Husk done\n",
            "Pear Monster done\n",
            "Physalis done\n",
            "Pomegranate done\n",
            "Apple Red 2 done\n",
            "Lychee done\n",
            "Tangelo done\n",
            "Carambula done\n",
            "Plum 3 done\n",
            "Pitahaya Red done\n",
            "Peach 2 done\n",
            "Apple Golden 1 done\n",
            "Banana done\n",
            "Onion Red Peeled done\n",
            "Pear Abate done\n",
            "Banana Lady Finger done\n",
            "Passion Fruit done\n",
            "Potato Red done\n",
            "Cactus fruit done\n",
            "Tamarillo done\n",
            "Cherry 2 done\n",
            "Clementine done\n",
            "Nut Pecan done\n",
            "Pear Stone done\n",
            "Peach Flat done\n",
            "Kaki done\n",
            "Mangostan done\n",
            "Pear 2 done\n",
            "Cocos done\n",
            "Lemon Meyer done\n",
            "Pear Kaiser done\n",
            "Raspberry done\n",
            "Cherry Rainier done\n",
            "Hazelnut done\n",
            "Cucumber Ripe done\n",
            "Rambutan done\n",
            "Apple Golden 2 done\n",
            "Avocado done\n",
            "Apple Red Yellow 2 done\n",
            "Tomato Maroon done\n",
            "Grape White 4 done\n",
            "Blueberry done\n"
          ]
        }
      ],
      "source": [
        "d = {}\n",
        "\n",
        "for classes in os.listdir(\"Training\"):\n",
        "    all_images = os.listdir(f\"Training/{classes}\")\n",
        "    temp = []\n",
        "    for images in all_images:\n",
        "        img = cv.imread(f\"Training/{classes}/{images}\")\n",
        "        fv = hog_feature_vector(img)\n",
        "        temp.append(fv)\n",
        "    print(classes, \"done\")\n",
        "    d[classes] = temp\n"
      ]
    },
    {
      "cell_type": "code",
      "source": [
        "import pickle"
      ],
      "metadata": {
        "id": "vxULFH9lznUp"
      },
      "execution_count": 3,
      "outputs": []
    },
    {
      "cell_type": "code",
      "source": [
        "with open('filename.pickle', 'wb') as handle:\n",
        "    pickle.dump(d, handle, protocol=pickle.HIGHEST_PROTOCOL)\n",
        "\n",
        "# with open('filename.pickle', 'rb') as handle:\n",
        "#     b = pickle.load(handle)"
      ],
      "metadata": {
        "id": "nM9LGPtRMWBC"
      },
      "execution_count": 13,
      "outputs": []
    },
    {
      "cell_type": "code",
      "source": [
        "\n",
        "with open('filename.pickle', 'rb') as handle:\n",
        "    d = pickle.load(handle)"
      ],
      "metadata": {
        "id": "tpGCY1FeslI2"
      },
      "execution_count": 5,
      "outputs": []
    },
    {
      "cell_type": "code",
      "source": [
        ""
      ],
      "metadata": {
        "id": "YS4zvL5IslFo"
      },
      "execution_count": 5,
      "outputs": []
    },
    {
      "cell_type": "code",
      "source": [
        "len(d[\"Watermelon\"])"
      ],
      "metadata": {
        "colab": {
          "base_uri": "https://localhost:8080/"
        },
        "id": "PR8lz_MAslCk",
        "outputId": "5c740b19-8d79-46a1-cc58-b2ce473d3008"
      },
      "execution_count": 6,
      "outputs": [
        {
          "output_type": "execute_result",
          "data": {
            "text/plain": [
              "475"
            ]
          },
          "metadata": {},
          "execution_count": 6
        }
      ]
    },
    {
      "cell_type": "code",
      "source": [
        "x_train = []\n",
        "y_train = []\n",
        "cl = []\n",
        "i = 0\n",
        "for key, value in d.items():\n",
        "    for each_array in value:\n",
        "        x_train.append(each_array)\n",
        "        temp = np.zeros(131)\n",
        "        temp[i] = 1\n",
        "        y_train.append(temp)\n",
        "    cl.append(key)\n",
        "    i += 1\n"
      ],
      "metadata": {
        "id": "DaL40el0syiU"
      },
      "execution_count": 34,
      "outputs": []
    },
    {
      "cell_type": "code",
      "source": [
        "x_train = np.array(x_train)\n",
        "y_train = np.array(y_train)"
      ],
      "metadata": {
        "id": "ReC_B-RzukyE"
      },
      "execution_count": 16,
      "outputs": []
    },
    {
      "cell_type": "code",
      "source": [
        "x_train.shape, y_train.shape"
      ],
      "metadata": {
        "colab": {
          "base_uri": "https://localhost:8080/"
        },
        "id": "Kr1jXaEUuqZN",
        "outputId": "8edabc90-eae6-4f82-eda9-cbaaf39da65b"
      },
      "execution_count": 17,
      "outputs": [
        {
          "output_type": "execute_result",
          "data": {
            "text/plain": [
              "((67692, 1296), (67692, 131))"
            ]
          },
          "metadata": {},
          "execution_count": 17
        }
      ]
    },
    {
      "cell_type": "code",
      "source": [
        "from sklearn.utils import shuffle\n",
        "x_train, y_train = shuffle(x_train, y_train)"
      ],
      "metadata": {
        "id": "QDXrfx1A87h_"
      },
      "execution_count": 18,
      "outputs": []
    },
    {
      "cell_type": "code",
      "source": [
        "x_train_1 = x_train[:54000, :]\n",
        "x_valid_1 = x_train[54000:, :]\n",
        "y_train_1, y_valid_1 = y_train[:54000, :], y_train[54000:, :]"
      ],
      "metadata": {
        "id": "iA11m83dvNZI"
      },
      "execution_count": 19,
      "outputs": []
    },
    {
      "cell_type": "code",
      "source": [
        "x_train_1.shape, y_train_1.shape, x_valid_1.shape, y_valid_1.shape"
      ],
      "metadata": {
        "colab": {
          "base_uri": "https://localhost:8080/"
        },
        "id": "FHOnhIMOvpvx",
        "outputId": "7bb309f3-131d-4321-8760-4cfb88e448b9"
      },
      "execution_count": 20,
      "outputs": [
        {
          "output_type": "execute_result",
          "data": {
            "text/plain": [
              "((54000, 1296), (54000, 131), (13692, 1296), (13692, 131))"
            ]
          },
          "metadata": {},
          "execution_count": 20
        }
      ]
    },
    {
      "cell_type": "code",
      "source": [
        "x_train = x_train_1\n",
        "x_valid = x_valid_1\n",
        "y_train = y_train_1\n",
        "y_valid = y_valid_1"
      ],
      "metadata": {
        "id": "Bh6L3Br6yGj8"
      },
      "execution_count": 21,
      "outputs": []
    },
    {
      "cell_type": "code",
      "source": [
        "x_train.shape, y_train.shape, x_valid.shape, y_valid.shape"
      ],
      "metadata": {
        "id": "SodkKloEzHMF",
        "outputId": "34c8684f-9254-4cef-b124-2466cab700c2",
        "colab": {
          "base_uri": "https://localhost:8080/"
        }
      },
      "execution_count": 22,
      "outputs": [
        {
          "output_type": "execute_result",
          "data": {
            "text/plain": [
              "((54000, 1296), (54000, 131), (13692, 1296), (13692, 131))"
            ]
          },
          "metadata": {},
          "execution_count": 22
        }
      ]
    },
    {
      "cell_type": "code",
      "source": [
        "# 1296\n",
        "import tensorflow.keras as keras\n",
        "num_categories = 131\n",
        "\n",
        "# y_train = keras.utils.to_categorical(y_train, num_categories)\n",
        "# y_valid = keras.utils.to_categorical(y_valid, num_categories)"
      ],
      "metadata": {
        "id": "CorsV8ufsoCH"
      },
      "execution_count": 23,
      "outputs": []
    },
    {
      "cell_type": "code",
      "source": [
        "from tensorflow.keras.models import Sequential\n",
        "\n",
        "model = Sequential()\n",
        "from tensorflow.keras.layers import Dense\n",
        "model.add(Dense(units=512, activation='relu', input_shape=(1296,)))\n",
        "model.add(Dense(units = 512, activation='relu'))\n",
        "model.add(Dense(units = 131, activation='softmax'))\n",
        "model.summary()\n",
        "model.compile(loss='categorical_crossentropy', metrics=['accuracy'])"
      ],
      "metadata": {
        "id": "0oGafRMkyVtN",
        "outputId": "1e1cafcc-91bf-443f-f5f9-bffd42c642b8",
        "colab": {
          "base_uri": "https://localhost:8080/"
        }
      },
      "execution_count": 24,
      "outputs": [
        {
          "output_type": "stream",
          "name": "stdout",
          "text": [
            "Model: \"sequential_1\"\n",
            "_________________________________________________________________\n",
            " Layer (type)                Output Shape              Param #   \n",
            "=================================================================\n",
            " dense_3 (Dense)             (None, 512)               664064    \n",
            "                                                                 \n",
            " dense_4 (Dense)             (None, 512)               262656    \n",
            "                                                                 \n",
            " dense_5 (Dense)             (None, 131)               67203     \n",
            "                                                                 \n",
            "=================================================================\n",
            "Total params: 993,923\n",
            "Trainable params: 993,923\n",
            "Non-trainable params: 0\n",
            "_________________________________________________________________\n"
          ]
        }
      ]
    },
    {
      "cell_type": "code",
      "source": [
        "history = model.fit(\n",
        "    x_train, y_train, epochs=20, verbose=1, validation_data=(x_valid, y_valid)\n",
        ")"
      ],
      "metadata": {
        "id": "O30ukq8uyg_b",
        "outputId": "ab48875f-16ed-456b-e85b-45c33591b850",
        "colab": {
          "base_uri": "https://localhost:8080/"
        }
      },
      "execution_count": 25,
      "outputs": [
        {
          "output_type": "stream",
          "name": "stdout",
          "text": [
            "Epoch 1/20\n",
            "1688/1688 [==============================] - 28s 16ms/step - loss: 1.0126 - accuracy: 0.7325 - val_loss: 0.2147 - val_accuracy: 0.9313\n",
            "Epoch 2/20\n",
            "1688/1688 [==============================] - 28s 17ms/step - loss: 0.1161 - accuracy: 0.9623 - val_loss: 0.0432 - val_accuracy: 0.9879\n",
            "Epoch 3/20\n",
            "1688/1688 [==============================] - 28s 17ms/step - loss: 0.0574 - accuracy: 0.9814 - val_loss: 0.0318 - val_accuracy: 0.9903\n",
            "Epoch 4/20\n",
            "1688/1688 [==============================] - 27s 16ms/step - loss: 0.0467 - accuracy: 0.9866 - val_loss: 0.0543 - val_accuracy: 0.9862\n",
            "Epoch 5/20\n",
            "1688/1688 [==============================] - 26s 16ms/step - loss: 0.0402 - accuracy: 0.9892 - val_loss: 0.0625 - val_accuracy: 0.9834\n",
            "Epoch 6/20\n",
            "1688/1688 [==============================] - 28s 16ms/step - loss: 0.0369 - accuracy: 0.9901 - val_loss: 0.2361 - val_accuracy: 0.9571\n",
            "Epoch 7/20\n",
            "1688/1688 [==============================] - 27s 16ms/step - loss: 0.0355 - accuracy: 0.9909 - val_loss: 0.0790 - val_accuracy: 0.9844\n",
            "Epoch 8/20\n",
            "1688/1688 [==============================] - 27s 16ms/step - loss: 0.0332 - accuracy: 0.9918 - val_loss: 0.2738 - val_accuracy: 0.9685\n",
            "Epoch 9/20\n",
            "1688/1688 [==============================] - 29s 17ms/step - loss: 0.0308 - accuracy: 0.9931 - val_loss: 0.0233 - val_accuracy: 0.9953\n",
            "Epoch 10/20\n",
            "1688/1688 [==============================] - 28s 17ms/step - loss: 0.0288 - accuracy: 0.9932 - val_loss: 0.0351 - val_accuracy: 0.9919\n",
            "Epoch 11/20\n",
            "1688/1688 [==============================] - 27s 16ms/step - loss: 0.0286 - accuracy: 0.9936 - val_loss: 0.0774 - val_accuracy: 0.9858\n",
            "Epoch 12/20\n",
            "1688/1688 [==============================] - 27s 16ms/step - loss: 0.0280 - accuracy: 0.9945 - val_loss: 0.0774 - val_accuracy: 0.9860\n",
            "Epoch 13/20\n",
            "1688/1688 [==============================] - 27s 16ms/step - loss: 0.0279 - accuracy: 0.9941 - val_loss: 0.0190 - val_accuracy: 0.9962\n",
            "Epoch 14/20\n",
            "1688/1688 [==============================] - 27s 16ms/step - loss: 0.0276 - accuracy: 0.9950 - val_loss: 0.0224 - val_accuracy: 0.9955\n",
            "Epoch 15/20\n",
            "1688/1688 [==============================] - 29s 17ms/step - loss: 0.0273 - accuracy: 0.9949 - val_loss: 0.0549 - val_accuracy: 0.9882\n",
            "Epoch 16/20\n",
            "1688/1688 [==============================] - 26s 16ms/step - loss: 0.0255 - accuracy: 0.9949 - val_loss: 0.0273 - val_accuracy: 0.9949\n",
            "Epoch 17/20\n",
            "1688/1688 [==============================] - 26s 16ms/step - loss: 0.0300 - accuracy: 0.9946 - val_loss: 0.0175 - val_accuracy: 0.9965\n",
            "Epoch 18/20\n",
            "1688/1688 [==============================] - 27s 16ms/step - loss: 0.0237 - accuracy: 0.9958 - val_loss: 0.0503 - val_accuracy: 0.9932\n",
            "Epoch 19/20\n",
            "1688/1688 [==============================] - 28s 17ms/step - loss: 0.0236 - accuracy: 0.9961 - val_loss: 0.0163 - val_accuracy: 0.9965\n",
            "Epoch 20/20\n",
            "1688/1688 [==============================] - 28s 16ms/step - loss: 0.0247 - accuracy: 0.9958 - val_loss: 0.0297 - val_accuracy: 0.9952\n"
          ]
        }
      ]
    },
    {
      "cell_type": "code",
      "source": [
        "import matplotlib.pyplot as plt\n",
        "from PIL import Image\n",
        "import PIL.ImageOps\n",
        "import numpy as np\n",
        "image = Image.open('Test/Apricot/44_100.jpg').convert(\"L\")\n",
        "img = PIL.ImageOps.invert(image)\n",
        "img_28x28 = np.array(img.resize((100, 100), Image.ANTIALIAS))\n",
        "imagex = img_28x28\n",
        "  \n",
        "plt.imshow(imagex, cmap='gray')\n",
        "\n",
        "imagex.size"
      ],
      "metadata": {
        "id": "PYH9O5zbypAU",
        "outputId": "a1043292-cc88-47f6-f621-9d8e7716377f",
        "colab": {
          "base_uri": "https://localhost:8080/",
          "height": 286
        }
      },
      "execution_count": 28,
      "outputs": [
        {
          "output_type": "execute_result",
          "data": {
            "text/plain": [
              "10000"
            ]
          },
          "metadata": {},
          "execution_count": 28
        },
        {
          "output_type": "display_data",
          "data": {
            "image/png": "[encoded data removed]",
            "text/plain": [
              "<Figure size 432x288 with 1 Axes>"
            ]
          },
          "metadata": {
            "needs_background": "light"
          }
        }
      ]
    },
    {
      "cell_type": "code",
      "source": [
        "import numpy as np\n",
        "correct = 0\n",
        "total = 0"
      ],
      "metadata": {
        "id": "pQIuavJcDitk"
      },
      "execution_count": 39,
      "outputs": []
    },
    {
      "cell_type": "code",
      "source": [
        "!unzip drive/MyDrive/Content/Test.zip"
      ],
      "metadata": {
        "id": "WsopIszCFWAw"
      },
      "execution_count": null,
      "outputs": []
    },
    {
      "cell_type": "code",
      "source": [
        "for folder in os.listdir(\"Test\"):\n",
        "    for each_image in os.listdir(f\"Test/{folder}\"):\n",
        "        total += 1\n",
        "        im22 = hog_feature_vector(cv.imread(f\"Test/{folder}/{each_image}\"))\n",
        "        x = np.expand_dims(im22, axis=0)\n",
        "        images = np.vstack([x])\n",
        "        classes = model.predict(images, batch_size=131)\n",
        "        a=max(classes[0])\n",
        "        for i in range(len(classes[0])):\n",
        "            if classes[0][i]==a:\n",
        "                if(cl[i] == folder):\n",
        "                    correct += 1\n",
        "    print(correct, total)\n"
      ],
      "metadata": {
        "id": "7vN8IZnq4Ek3",
        "outputId": "14bdf61e-e526-4fec-f544-d78a7c6b7733",
        "colab": {
          "base_uri": "https://localhost:8080/"
        }
      },
      "execution_count": 44,
      "outputs": [
        {
          "output_type": "stream",
          "name": "stdout",
          "text": [
            "1151 1486\n",
            "1249 1650\n",
            "1356 1806\n",
            "1483 1972\n",
            "1564 2118\n",
            "1628 2268\n",
            "1786 2432\n",
            "1952 2598\n",
            "2116 2762\n",
            "2269 2926\n",
            "2299 3082\n",
            "2443 3226\n",
            "2531 3379\n",
            "2617 3530\n",
            "2721 3694\n",
            "2887 3860\n",
            "3039 4018\n",
            "3115 4168\n",
            "3236 4332\n",
            "3300 4493\n",
            "3512 4727\n",
            "3631 4877\n",
            "3867 5123\n",
            "3979 5280\n",
            "4140 5446\n",
            "4271 5602\n",
            "4393 5766\n",
            "4539 5932\n",
            "4782 6178\n",
            "5002 6403\n",
            "5127 6551\n",
            "5251 6769\n",
            "5308 6933\n",
            "5503 7155\n",
            "5701 7377\n",
            "5865 7541\n",
            "6023 7775\n",
            "6180 7941\n",
            "6401 8175\n",
            "6565 8339\n",
            "6731 8505\n",
            "6800 8662\n",
            "6959 8826\n",
            "7123 8990\n",
            "7372 9239\n",
            "7534 9401\n",
            "7636 9565\n",
            "7792 9731\n",
            "7956 9895\n",
            "8066 10061\n",
            "8224 10227\n",
            "8448 10473\n",
            "8586 10637\n",
            "8752 10803\n",
            "8912 10963\n",
            "9000 11114\n",
            "9158 11277\n",
            "9303 11505\n",
            "9464 11669\n",
            "9585 11833\n",
            "9746 11999\n",
            "9869 12163\n",
            "10019 12316\n",
            "10156 12468\n",
            "10300 12621\n",
            "10460 12781\n",
            "10603 12947\n",
            "10719 13089\n",
            "10883 13253\n",
            "11033 13403\n",
            "11191 13567\n",
            "11331 13715\n",
            "11497 13881\n",
            "11660 14045\n",
            "11768 14205\n",
            "11920 14369\n",
            "12166 14615\n",
            "12299 14781\n",
            "12531 15015\n",
            "12624 15181\n",
            "12780 15345\n",
            "13107 15673\n",
            "13220 15895\n",
            "13338 16061\n",
            "13504 16227\n",
            "13614 16369\n",
            "13673 16519\n",
            "13813 16683\n",
            "13954 16849\n",
            "14040 17003\n",
            "14145 17169\n",
            "14295 17333\n",
            "14388 17497\n",
            "14500 17661\n",
            "14664 17827\n",
            "14804 17993\n",
            "14938 18159\n",
            "15242 18463\n",
            "15408 18629\n",
            "15654 18875\n",
            "15770 19035\n",
            "15900 19201\n",
            "16024 19356\n",
            "16166 19522\n",
            "16274 19674\n",
            "16438 19840\n",
            "16532 19990\n",
            "16662 20156\n",
            "16823 20322\n",
            "17027 20568\n",
            "17141 20734\n",
            "17266 20912\n",
            "17463 21149\n",
            "17594 21313\n",
            "17738 21479\n",
            "17829 21581\n",
            "17945 21813\n",
            "18091 21979\n",
            "18257 22145\n",
            "18359 22247\n",
            "18510 22413\n",
            "18681 22659\n",
            "18838 22816\n",
            "18962 22946\n",
            "19124 23110\n",
            "19236 23274\n",
            "19344 23417\n",
            "19563 23636\n",
            "19690 23763\n",
            "19845 23921\n",
            "19956 24075\n"
          ]
        }
      ]
    },
    {
      "cell_type": "markdown",
      "source": [
        "Testing over entire dataset"
      ],
      "metadata": {
        "id": "dwwOyScNDSTB"
      }
    },
    {
      "cell_type": "code",
      "source": [
        "print(\"accuracy of the model\", correct/total)"
      ],
      "metadata": {
        "id": "z04WIHs1428-",
        "outputId": "3d8e75ed-773a-4b16-eb80-db01e30af198",
        "colab": {
          "base_uri": "https://localhost:8080/"
        }
      },
      "execution_count": 42,
      "outputs": [
        {
          "output_type": "stream",
          "name": "stdout",
          "text": [
            "accuracy of the model 0.7642393655371305\n"
          ]
        }
      ]
    },
    {
      "cell_type": "code",
      "source": [
        ""
      ],
      "metadata": {
        "id": "fcTNlyADEUAR"
      },
      "execution_count": null,
      "outputs": []
    }
  ],
  "metadata": {
    "colab": {
      "name": "Neural_Network.ipynb",
      "provenance": []
    },
    "kernelspec": {
      "display_name": "Python 3",
      "name": "python3"
    },
    "language_info": {
      "name": "python"
    }
  },
  "nbformat": 4,
  "nbformat_minor": 0
}